{
 "cells": [
  {
   "cell_type": "code",
   "execution_count": 2,
   "id": "81fc9463",
   "metadata": {
    "pycharm": {
     "name": "#%%\n"
    }
   },
   "outputs": [],
   "source": []
  },
  {
   "cell_type": "code",
   "execution_count": 3,
   "id": "6d92abfb",
   "metadata": {
    "scrolled": false,
    "pycharm": {
     "name": "#%%\n"
    }
   },
   "outputs": [
    {
     "name": "stdout",
     "output_type": "stream",
     "text": [
      "len train_dl_global: 60000\n",
      "not supported yet\n"
     ]
    },
    {
     "ename": "UnboundLocalError",
     "evalue": "local variable 'net' referenced before assignment",
     "output_type": "error",
     "traceback": [
      "\u001B[0;31m---------------------------------------------------------------------------\u001B[0m",
      "\u001B[0;31mUnboundLocalError\u001B[0m                         Traceback (most recent call last)",
      "File \u001B[0;32m~/Incentive with data quality/Codes/experiments.py:892\u001B[0m, in \u001B[0;36m<module>\u001B[0;34m\u001B[0m\n\u001B[1;32m    890\u001B[0m \u001B[38;5;28;01mif\u001B[39;00m args\u001B[38;5;241m.\u001B[39malg \u001B[38;5;241m==\u001B[39m \u001B[38;5;124m'\u001B[39m\u001B[38;5;124mfedavg\u001B[39m\u001B[38;5;124m'\u001B[39m:\n\u001B[1;32m    891\u001B[0m     logger\u001B[38;5;241m.\u001B[39minfo(\u001B[38;5;124m\"\u001B[39m\u001B[38;5;124mInitializing nets\u001B[39m\u001B[38;5;124m\"\u001B[39m)\n\u001B[0;32m--> 892\u001B[0m     nets, local_model_meta_data, layer_type \u001B[38;5;241m=\u001B[39m \u001B[43minit_nets\u001B[49m\u001B[43m(\u001B[49m\u001B[43margs\u001B[49m\u001B[38;5;241;43m.\u001B[39;49m\u001B[43mnet_config\u001B[49m\u001B[43m,\u001B[49m\u001B[43m \u001B[49m\u001B[43margs\u001B[49m\u001B[38;5;241;43m.\u001B[39;49m\u001B[43mdropout_p\u001B[49m\u001B[43m,\u001B[49m\u001B[43m \u001B[49m\u001B[43margs\u001B[49m\u001B[38;5;241;43m.\u001B[39;49m\u001B[43mn_parties\u001B[49m\u001B[43m,\u001B[49m\u001B[43m \u001B[49m\u001B[43margs\u001B[49m\u001B[43m)\u001B[49m\n\u001B[1;32m    893\u001B[0m     global_models, global_model_meta_data, global_layer_type \u001B[38;5;241m=\u001B[39m init_nets(args\u001B[38;5;241m.\u001B[39mnet_config, \u001B[38;5;241m0\u001B[39m, \u001B[38;5;241m1\u001B[39m, args)\n\u001B[1;32m    894\u001B[0m     global_model \u001B[38;5;241m=\u001B[39m global_models[\u001B[38;5;241m0\u001B[39m]\n",
      "File \u001B[0;32m~/Incentive with data quality/Codes/experiments.py:145\u001B[0m, in \u001B[0;36minit_nets\u001B[0;34m(net_configs, dropout_p, n_parties, args)\u001B[0m\n\u001B[1;32m    143\u001B[0m                 \u001B[38;5;28mprint\u001B[39m(\u001B[38;5;124m\"\u001B[39m\u001B[38;5;124mnot supported yet\u001B[39m\u001B[38;5;124m\"\u001B[39m)\n\u001B[1;32m    144\u001B[0m                 exit(\u001B[38;5;241m1\u001B[39m)\n\u001B[0;32m--> 145\u001B[0m             nets[net_i] \u001B[38;5;241m=\u001B[39m \u001B[43mnet\u001B[49m\n\u001B[1;32m    147\u001B[0m model_meta_data \u001B[38;5;241m=\u001B[39m []\n\u001B[1;32m    148\u001B[0m layer_type \u001B[38;5;241m=\u001B[39m []\n",
      "\u001B[0;31mUnboundLocalError\u001B[0m: local variable 'net' referenced before assignment"
     ]
    }
   ],
   "source": [
    "%run -i experiments.py"
   ]
  }
 ],
 "metadata": {
  "kernelspec": {
   "display_name": "Python 3 (ipykernel)",
   "language": "python",
   "name": "python3"
  },
  "language_info": {
   "codemirror_mode": {
    "name": "ipython",
    "version": 3
   },
   "file_extension": ".py",
   "mimetype": "text/x-python",
   "name": "python",
   "nbconvert_exporter": "python",
   "pygments_lexer": "ipython3",
   "version": "3.9.7"
  }
 },
 "nbformat": 4,
 "nbformat_minor": 5
}